{
 "cells": [
  {
   "cell_type": "code",
   "execution_count": 1,
   "id": "c26da858",
   "metadata": {
    "scrolled": true
   },
   "outputs": [],
   "source": [
    "# !pip install numpy pandas scipy anndata"
   ]
  },
  {
   "cell_type": "code",
   "execution_count": 2,
   "id": "3b18ae8f",
   "metadata": {
    "scrolled": true
   },
   "outputs": [],
   "source": [
    "# %pip install anndata"
   ]
  },
  {
   "cell_type": "code",
   "execution_count": 16,
   "id": "59a797b7",
   "metadata": {},
   "outputs": [],
   "source": [
    "# only need to run this command once, after that you can use the package\n",
    "#pip install git+https://github.com/l1joseph/IDEA.git\n"
   ]
  },
  {
   "cell_type": "code",
   "execution_count": 152,
   "id": "76b743ed",
   "metadata": {},
   "outputs": [],
   "source": [
    "import idea"
   ]
  },
  {
   "cell_type": "code",
   "execution_count": 178,
   "id": "4e4d1472",
   "metadata": {},
   "outputs": [
    {
     "data": {
      "text/html": [
       "<div>\n",
       "<style scoped>\n",
       "    .dataframe tbody tr th:only-of-type {\n",
       "        vertical-align: middle;\n",
       "    }\n",
       "\n",
       "    .dataframe tbody tr th {\n",
       "        vertical-align: top;\n",
       "    }\n",
       "\n",
       "    .dataframe thead th {\n",
       "        text-align: right;\n",
       "    }\n",
       "</style>\n",
       "<table border=\"1\" class=\"dataframe\">\n",
       "  <thead>\n",
       "    <tr style=\"text-align: right;\">\n",
       "      <th></th>\n",
       "      <th>1</th>\n",
       "      <th>2</th>\n",
       "      <th>3</th>\n",
       "      <th>4</th>\n",
       "      <th>5</th>\n",
       "      <th>6</th>\n",
       "      <th>7</th>\n",
       "      <th>8</th>\n",
       "      <th>9</th>\n",
       "      <th>10</th>\n",
       "      <th>...</th>\n",
       "      <th>43311</th>\n",
       "      <th>43312</th>\n",
       "      <th>43313</th>\n",
       "      <th>43314</th>\n",
       "      <th>43315</th>\n",
       "      <th>43316</th>\n",
       "      <th>43317</th>\n",
       "      <th>43318</th>\n",
       "      <th>43319</th>\n",
       "      <th>43320</th>\n",
       "    </tr>\n",
       "  </thead>\n",
       "  <tbody>\n",
       "    <tr>\n",
       "      <th>APAP</th>\n",
       "      <td>8</td>\n",
       "      <td>324</td>\n",
       "      <td>15</td>\n",
       "      <td>0</td>\n",
       "      <td>0</td>\n",
       "      <td>2</td>\n",
       "      <td>1</td>\n",
       "      <td>25</td>\n",
       "      <td>30</td>\n",
       "      <td>18</td>\n",
       "      <td>...</td>\n",
       "      <td>2149</td>\n",
       "      <td>33387</td>\n",
       "      <td>206206</td>\n",
       "      <td>6668</td>\n",
       "      <td>9599</td>\n",
       "      <td>70857</td>\n",
       "      <td>55518</td>\n",
       "      <td>6422</td>\n",
       "      <td>42915</td>\n",
       "      <td>3909</td>\n",
       "    </tr>\n",
       "    <tr>\n",
       "      <th>Control.1</th>\n",
       "      <td>5</td>\n",
       "      <td>204</td>\n",
       "      <td>15</td>\n",
       "      <td>0</td>\n",
       "      <td>0</td>\n",
       "      <td>0</td>\n",
       "      <td>0</td>\n",
       "      <td>14</td>\n",
       "      <td>47</td>\n",
       "      <td>18</td>\n",
       "      <td>...</td>\n",
       "      <td>2438</td>\n",
       "      <td>41392</td>\n",
       "      <td>134202</td>\n",
       "      <td>10621</td>\n",
       "      <td>11568</td>\n",
       "      <td>77000</td>\n",
       "      <td>55071</td>\n",
       "      <td>6232</td>\n",
       "      <td>39156</td>\n",
       "      <td>3012</td>\n",
       "    </tr>\n",
       "    <tr>\n",
       "      <th>Control.2</th>\n",
       "      <td>9</td>\n",
       "      <td>248</td>\n",
       "      <td>16</td>\n",
       "      <td>1</td>\n",
       "      <td>0</td>\n",
       "      <td>0</td>\n",
       "      <td>0</td>\n",
       "      <td>16</td>\n",
       "      <td>43</td>\n",
       "      <td>27</td>\n",
       "      <td>...</td>\n",
       "      <td>2113</td>\n",
       "      <td>33838</td>\n",
       "      <td>143666</td>\n",
       "      <td>10394</td>\n",
       "      <td>8679</td>\n",
       "      <td>60472</td>\n",
       "      <td>38615</td>\n",
       "      <td>5285</td>\n",
       "      <td>36351</td>\n",
       "      <td>1920</td>\n",
       "    </tr>\n",
       "  </tbody>\n",
       "</table>\n",
       "<p>3 rows × 43320 columns</p>\n",
       "</div>"
      ],
      "text/plain": [
       "           1      2      3      4      5      6      7      8      9      \\\n",
       "APAP           8    324     15      0      0      2      1     25     30   \n",
       "Control.1      5    204     15      0      0      0      0     14     47   \n",
       "Control.2      9    248     16      1      0      0      0     16     43   \n",
       "\n",
       "           10     ...  43311  43312   43313  43314  43315  43316  43317  \\\n",
       "APAP          18  ...   2149  33387  206206   6668   9599  70857  55518   \n",
       "Control.1     18  ...   2438  41392  134202  10621  11568  77000  55071   \n",
       "Control.2     27  ...   2113  33838  143666  10394   8679  60472  38615   \n",
       "\n",
       "           43318  43319  43320  \n",
       "APAP        6422  42915   3909  \n",
       "Control.1   6232  39156   3012  \n",
       "Control.2   5285  36351   1920  \n",
       "\n",
       "[3 rows x 43320 columns]"
      ]
     },
     "execution_count": 178,
     "metadata": {},
     "output_type": "execute_result"
    }
   ],
   "source": [
    "import pandas as pd\n",
    "\n",
    "# Read the file into a DataFrame, specifying the first column as the index\n",
    "filtered_df = pd.read_csv(\"./data/GSE255777_RawCounts_human.csv\", index_col=0)\n",
    "\n",
    "# Drop the first column\n",
    "filtered_df = filtered_df.iloc[:, 1:]\n",
    "\n",
    "# Transpose the DataFrame\n",
    "counts = filtered_df.transpose()\n",
    "\n",
    "# Display the transposed DataFrame\n",
    "counts"
   ]
  },
  {
   "cell_type": "code",
   "execution_count": 177,
   "id": "85673f5c",
   "metadata": {},
   "outputs": [
    {
     "data": {
      "text/html": [
       "<div>\n",
       "<style scoped>\n",
       "    .dataframe tbody tr th:only-of-type {\n",
       "        vertical-align: middle;\n",
       "    }\n",
       "\n",
       "    .dataframe tbody tr th {\n",
       "        vertical-align: top;\n",
       "    }\n",
       "\n",
       "    .dataframe thead th {\n",
       "        text-align: right;\n",
       "    }\n",
       "</style>\n",
       "<table border=\"1\" class=\"dataframe\">\n",
       "  <thead>\n",
       "    <tr style=\"text-align: right;\">\n",
       "      <th></th>\n",
       "      <th>condition</th>\n",
       "    </tr>\n",
       "  </thead>\n",
       "  <tbody>\n",
       "    <tr>\n",
       "      <th>0</th>\n",
       "      <td>APAP</td>\n",
       "    </tr>\n",
       "    <tr>\n",
       "      <th>1</th>\n",
       "      <td>Control.1</td>\n",
       "    </tr>\n",
       "    <tr>\n",
       "      <th>2</th>\n",
       "      <td>Control.2</td>\n",
       "    </tr>\n",
       "  </tbody>\n",
       "</table>\n",
       "</div>"
      ],
      "text/plain": [
       "   condition\n",
       "0       APAP\n",
       "1  Control.1\n",
       "2  Control.2"
      ]
     },
     "execution_count": 177,
     "metadata": {},
     "output_type": "execute_result"
    }
   ],
   "source": [
    "\n",
    "# Define the names of the conditions\n",
    "conditions = [\"APAP\", \"Control.1\", \"Control.2\"]\n",
    "\n",
    "# Create a DataFrame containing the conditions\n",
    "sample_info = pd.DataFrame({\n",
    "    'condition': conditions\n",
    "})\n",
    "\n",
    "# Display the DataFrame\n",
    "sample_info"
   ]
  },
  {
   "cell_type": "code",
   "execution_count": 179,
   "id": "76eaecd7",
   "metadata": {},
   "outputs": [],
   "source": [
    "dds = idea.IDEADataSet(counts, sample_info)"
   ]
  },
  {
   "cell_type": "code",
   "execution_count": 180,
   "id": "146bf55d",
   "metadata": {},
   "outputs": [],
   "source": [
    "adata = dds.to_anndata()"
   ]
  },
  {
   "cell_type": "code",
   "execution_count": 181,
   "id": "fd348ec7",
   "metadata": {},
   "outputs": [
    {
     "name": "stdout",
     "output_type": "stream",
     "text": [
      "Estimating size factors...\n",
      "Normalizing counts...\n"
     ]
    },
    {
     "data": {
      "text/plain": [
       "AnnData object with n_obs × n_vars = 3 × 43320\n",
       "    obs: 'condition', 'size_factors'\n",
       "    layers: 'normalized'"
      ]
     },
     "execution_count": 181,
     "metadata": {},
     "output_type": "execute_result"
    }
   ],
   "source": [
    "# Perform normalization\n",
    "print(\"Estimating size factors...\")\n",
    "idea.size_factors(adata)\n",
    "print(\"Normalizing counts...\")\n",
    "idea.normalize_counts(adata)"
   ]
  },
  {
   "cell_type": "code",
   "execution_count": 182,
   "id": "35842b4d",
   "metadata": {},
   "outputs": [
    {
     "name": "stdout",
     "output_type": "stream",
     "text": [
      "Estimating dispersions...\n",
      "Fitting dispersion trend...\n",
      "Shrinking dispersions...\n"
     ]
    },
    {
     "data": {
      "text/html": [
       "<div>\n",
       "<style scoped>\n",
       "    .dataframe tbody tr th:only-of-type {\n",
       "        vertical-align: middle;\n",
       "    }\n",
       "\n",
       "    .dataframe tbody tr th {\n",
       "        vertical-align: top;\n",
       "    }\n",
       "\n",
       "    .dataframe thead th {\n",
       "        text-align: right;\n",
       "    }\n",
       "</style>\n",
       "<table border=\"1\" class=\"dataframe\">\n",
       "  <thead>\n",
       "    <tr style=\"text-align: right;\">\n",
       "      <th></th>\n",
       "      <th>dispersion</th>\n",
       "      <th>fitted_dispersion</th>\n",
       "      <th>shrunken_dispersion</th>\n",
       "    </tr>\n",
       "  </thead>\n",
       "  <tbody>\n",
       "    <tr>\n",
       "      <th>1</th>\n",
       "      <td>0.393939</td>\n",
       "      <td>118.710089</td>\n",
       "      <td>0.392636</td>\n",
       "    </tr>\n",
       "    <tr>\n",
       "      <th>2</th>\n",
       "      <td>9.498282</td>\n",
       "      <td>128.907025</td>\n",
       "      <td>8.846447</td>\n",
       "    </tr>\n",
       "    <tr>\n",
       "      <th>3</th>\n",
       "      <td>0.014493</td>\n",
       "      <td>124.185459</td>\n",
       "      <td>0.014491</td>\n",
       "    </tr>\n",
       "    <tr>\n",
       "      <th>4</th>\n",
       "      <td>0.666667</td>\n",
       "      <td>-101.673560</td>\n",
       "      <td>0.671067</td>\n",
       "    </tr>\n",
       "    <tr>\n",
       "      <th>5</th>\n",
       "      <td>NaN</td>\n",
       "      <td>-inf</td>\n",
       "      <td>NaN</td>\n",
       "    </tr>\n",
       "    <tr>\n",
       "      <th>...</th>\n",
       "      <td>...</td>\n",
       "      <td>...</td>\n",
       "      <td>...</td>\n",
       "    </tr>\n",
       "    <tr>\n",
       "      <th>43316</th>\n",
       "      <td>670.029069</td>\n",
       "      <td>129.203440</td>\n",
       "      <td>108.316491</td>\n",
       "    </tr>\n",
       "    <tr>\n",
       "      <th>43317</th>\n",
       "      <td>1243.735990</td>\n",
       "      <td>129.203001</td>\n",
       "      <td>117.044110</td>\n",
       "    </tr>\n",
       "    <tr>\n",
       "      <th>43318</th>\n",
       "      <td>41.356412</td>\n",
       "      <td>129.191678</td>\n",
       "      <td>31.327846</td>\n",
       "    </tr>\n",
       "    <tr>\n",
       "      <th>43319</th>\n",
       "      <td>183.198510</td>\n",
       "      <td>129.202599</td>\n",
       "      <td>75.767092</td>\n",
       "    </tr>\n",
       "    <tr>\n",
       "      <th>43320</th>\n",
       "      <td>224.454021</td>\n",
       "      <td>129.178434</td>\n",
       "      <td>81.990831</td>\n",
       "    </tr>\n",
       "  </tbody>\n",
       "</table>\n",
       "<p>43320 rows × 3 columns</p>\n",
       "</div>"
      ],
      "text/plain": [
       "        dispersion  fitted_dispersion  shrunken_dispersion\n",
       "1         0.393939         118.710089             0.392636\n",
       "2         9.498282         128.907025             8.846447\n",
       "3         0.014493         124.185459             0.014491\n",
       "4         0.666667        -101.673560             0.671067\n",
       "5              NaN               -inf                  NaN\n",
       "...            ...                ...                  ...\n",
       "43316   670.029069         129.203440           108.316491\n",
       "43317  1243.735990         129.203001           117.044110\n",
       "43318    41.356412         129.191678            31.327846\n",
       "43319   183.198510         129.202599            75.767092\n",
       "43320   224.454021         129.178434            81.990831\n",
       "\n",
       "[43320 rows x 3 columns]"
      ]
     },
     "execution_count": 182,
     "metadata": {},
     "output_type": "execute_result"
    }
   ],
   "source": [
    "\n",
    "# Estimate dispersions on the filtered data\n",
    "print(\"Estimating dispersions...\")\n",
    "idea.estimate_dispersions(adata)\n",
    "print(\"Fitting dispersion trend...\")\n",
    "idea.fit_dispersion_trend(adata)\n",
    "print(\"Shrinking dispersions...\")\n",
    "idea.shrink_dispersions(adata)\n",
    "\n",
    "\n",
    "adata.var"
   ]
  },
  {
   "cell_type": "code",
   "execution_count": 183,
   "id": "7c8442b4",
   "metadata": {},
   "outputs": [
    {
     "name": "stdout",
     "output_type": "stream",
     "text": [
      "Performing differential expression analysis...\n"
     ]
    },
    {
     "ename": "PerfectSeparationError",
     "evalue": "Perfect separation detected, results not available",
     "output_type": "error",
     "traceback": [
      "\u001b[0;31m---------------------------------------------------------------------------\u001b[0m",
      "\u001b[0;31mPerfectSeparationError\u001b[0m                    Traceback (most recent call last)",
      "\u001b[0;32m/tmp/ipykernel_24363/730537933.py\u001b[0m in \u001b[0;36m<module>\u001b[0;34m\u001b[0m\n\u001b[1;32m      6\u001b[0m \u001b[0mcontrast\u001b[0m \u001b[0;34m=\u001b[0m \u001b[0;34m(\u001b[0m\u001b[0;34m'condition'\u001b[0m\u001b[0;34m,\u001b[0m \u001b[0;34m'APAP'\u001b[0m\u001b[0;34m,\u001b[0m \u001b[0;34m'Control.1'\u001b[0m\u001b[0;34m)\u001b[0m\u001b[0;34m\u001b[0m\u001b[0;34m\u001b[0m\u001b[0m\n\u001b[1;32m      7\u001b[0m \u001b[0mprint\u001b[0m\u001b[0;34m(\u001b[0m\u001b[0;34m\"Performing differential expression analysis...\"\u001b[0m\u001b[0;34m)\u001b[0m\u001b[0;34m\u001b[0m\u001b[0;34m\u001b[0m\u001b[0m\n\u001b[0;32m----> 8\u001b[0;31m \u001b[0mresults\u001b[0m \u001b[0;34m=\u001b[0m \u001b[0midea\u001b[0m\u001b[0;34m.\u001b[0m\u001b[0mrunidea\u001b[0m\u001b[0;34m(\u001b[0m\u001b[0madata\u001b[0m\u001b[0;34m,\u001b[0m \u001b[0mcontrast\u001b[0m\u001b[0;34m)\u001b[0m\u001b[0;34m\u001b[0m\u001b[0;34m\u001b[0m\u001b[0m\n\u001b[0m\u001b[1;32m      9\u001b[0m \u001b[0;34m\u001b[0m\u001b[0m\n\u001b[1;32m     10\u001b[0m \u001b[0;31m# Print results\u001b[0m\u001b[0;34m\u001b[0m\u001b[0;34m\u001b[0m\u001b[0;34m\u001b[0m\u001b[0m\n",
      "\u001b[0;32m~/project/IDEA/idea/differential_expression.py\u001b[0m in \u001b[0;36mrunidea\u001b[0;34m(adata, contrast)\u001b[0m\n\u001b[1;32m    129\u001b[0m     \u001b[0mresults\u001b[0m \u001b[0;34m=\u001b[0m \u001b[0;34m[\u001b[0m\u001b[0;34m]\u001b[0m\u001b[0;34m\u001b[0m\u001b[0;34m\u001b[0m\u001b[0m\n\u001b[1;32m    130\u001b[0m \u001b[0mp_values\u001b[0m \u001b[0;34m=\u001b[0m \u001b[0;34m[\u001b[0m\u001b[0;34m]\u001b[0m\u001b[0;34m\u001b[0m\u001b[0;34m\u001b[0m\u001b[0m\n\u001b[0;32m--> 131\u001b[0;31m \u001b[0;32mfor\u001b[0m \u001b[0mi\u001b[0m\u001b[0;34m,\u001b[0m \u001b[0mgene\u001b[0m \u001b[0;32min\u001b[0m \u001b[0menumerate\u001b[0m\u001b[0;34m(\u001b[0m\u001b[0mgenes\u001b[0m\u001b[0;34m)\u001b[0m\u001b[0;34m:\u001b[0m\u001b[0;34m\u001b[0m\u001b[0;34m\u001b[0m\u001b[0m\n\u001b[0m\u001b[1;32m    132\u001b[0m     \u001b[0;32mtry\u001b[0m\u001b[0;34m:\u001b[0m\u001b[0;34m\u001b[0m\u001b[0;34m\u001b[0m\u001b[0m\n\u001b[1;32m    133\u001b[0m         \u001b[0my\u001b[0m \u001b[0;34m=\u001b[0m \u001b[0mcounts\u001b[0m\u001b[0;34m[\u001b[0m\u001b[0;34m:\u001b[0m\u001b[0;34m,\u001b[0m \u001b[0mi\u001b[0m\u001b[0;34m]\u001b[0m\u001b[0;34m\u001b[0m\u001b[0;34m\u001b[0m\u001b[0m\n",
      "\u001b[0;32m~/project/IDEA/idea/differential_expression.py\u001b[0m in \u001b[0;36mfit_negative_binomial_model\u001b[0;34m(counts, design_matrix)\u001b[0m\n\u001b[1;32m     52\u001b[0m         \u001b[0mFitted\u001b[0m \u001b[0mnegative\u001b[0m \u001b[0mbinomial\u001b[0m \u001b[0mregression\u001b[0m \u001b[0mmodel\u001b[0m\u001b[0;34m.\u001b[0m\u001b[0;34m\u001b[0m\u001b[0;34m\u001b[0m\u001b[0m\n\u001b[1;32m     53\u001b[0m     \"\"\"\n\u001b[0;32m---> 54\u001b[0;31m     \u001b[0;32mreturn\u001b[0m \u001b[0msm\u001b[0m\u001b[0;34m.\u001b[0m\u001b[0mGLM\u001b[0m\u001b[0;34m(\u001b[0m\u001b[0mcounts\u001b[0m\u001b[0;34m,\u001b[0m \u001b[0mdesign_matrix\u001b[0m\u001b[0;34m,\u001b[0m \u001b[0mfamily\u001b[0m\u001b[0;34m=\u001b[0m\u001b[0msm\u001b[0m\u001b[0;34m.\u001b[0m\u001b[0mfamilies\u001b[0m\u001b[0;34m.\u001b[0m\u001b[0mNegativeBinomial\u001b[0m\u001b[0;34m(\u001b[0m\u001b[0;34m)\u001b[0m\u001b[0;34m)\u001b[0m\u001b[0;34m.\u001b[0m\u001b[0mfit\u001b[0m\u001b[0;34m(\u001b[0m\u001b[0;34m)\u001b[0m\u001b[0;34m\u001b[0m\u001b[0;34m\u001b[0m\u001b[0m\n\u001b[0m\u001b[1;32m     55\u001b[0m \u001b[0;34m\u001b[0m\u001b[0m\n\u001b[1;32m     56\u001b[0m \u001b[0;32mdef\u001b[0m \u001b[0mperform_wald_test\u001b[0m\u001b[0;34m(\u001b[0m\u001b[0mmodel\u001b[0m\u001b[0;34m:\u001b[0m \u001b[0msm\u001b[0m\u001b[0;34m.\u001b[0m\u001b[0mGLM\u001b[0m\u001b[0;34m,\u001b[0m \u001b[0mcontrast_matrix\u001b[0m\u001b[0;34m:\u001b[0m \u001b[0mnp\u001b[0m\u001b[0;34m.\u001b[0m\u001b[0mndarray\u001b[0m\u001b[0;34m)\u001b[0m \u001b[0;34m->\u001b[0m \u001b[0mTuple\u001b[0m\u001b[0;34m[\u001b[0m\u001b[0mfloat\u001b[0m\u001b[0;34m,\u001b[0m \u001b[0mfloat\u001b[0m\u001b[0;34m,\u001b[0m \u001b[0mfloat\u001b[0m\u001b[0;34m]\u001b[0m\u001b[0;34m:\u001b[0m\u001b[0;34m\u001b[0m\u001b[0;34m\u001b[0m\u001b[0m\n",
      "\u001b[0;32m/opt/conda/lib/python3.9/site-packages/statsmodels/genmod/generalized_linear_model.py\u001b[0m in \u001b[0;36mfit\u001b[0;34m(self, start_params, maxiter, method, tol, scale, cov_type, cov_kwds, use_t, full_output, disp, max_start_irls, **kwargs)\u001b[0m\n\u001b[1;32m   1061\u001b[0m             \u001b[0;32mif\u001b[0m \u001b[0mcov_type\u001b[0m\u001b[0;34m.\u001b[0m\u001b[0mlower\u001b[0m\u001b[0;34m(\u001b[0m\u001b[0;34m)\u001b[0m \u001b[0;34m==\u001b[0m \u001b[0;34m'eim'\u001b[0m\u001b[0;34m:\u001b[0m\u001b[0;34m\u001b[0m\u001b[0;34m\u001b[0m\u001b[0m\n\u001b[1;32m   1062\u001b[0m                 \u001b[0mcov_type\u001b[0m \u001b[0;34m=\u001b[0m \u001b[0;34m'nonrobust'\u001b[0m\u001b[0;34m\u001b[0m\u001b[0;34m\u001b[0m\u001b[0m\n\u001b[0;32m-> 1063\u001b[0;31m             return self._fit_irls(start_params=start_params, maxiter=maxiter,\n\u001b[0m\u001b[1;32m   1064\u001b[0m                                   \u001b[0mtol\u001b[0m\u001b[0;34m=\u001b[0m\u001b[0mtol\u001b[0m\u001b[0;34m,\u001b[0m \u001b[0mscale\u001b[0m\u001b[0;34m=\u001b[0m\u001b[0mscale\u001b[0m\u001b[0;34m,\u001b[0m \u001b[0mcov_type\u001b[0m\u001b[0;34m=\u001b[0m\u001b[0mcov_type\u001b[0m\u001b[0;34m,\u001b[0m\u001b[0;34m\u001b[0m\u001b[0;34m\u001b[0m\u001b[0m\n\u001b[1;32m   1065\u001b[0m                                   cov_kwds=cov_kwds, use_t=use_t, **kwargs)\n",
      "\u001b[0;32m/opt/conda/lib/python3.9/site-packages/statsmodels/genmod/generalized_linear_model.py\u001b[0m in \u001b[0;36m_fit_irls\u001b[0;34m(self, start_params, maxiter, tol, scale, cov_type, cov_kwds, use_t, **kwargs)\u001b[0m\n\u001b[1;32m   1209\u001b[0m             \u001b[0;32mif\u001b[0m \u001b[0mendog\u001b[0m\u001b[0;34m.\u001b[0m\u001b[0msqueeze\u001b[0m\u001b[0;34m(\u001b[0m\u001b[0;34m)\u001b[0m\u001b[0;34m.\u001b[0m\u001b[0mndim\u001b[0m \u001b[0;34m==\u001b[0m \u001b[0;36m1\u001b[0m \u001b[0;32mand\u001b[0m \u001b[0mnp\u001b[0m\u001b[0;34m.\u001b[0m\u001b[0mallclose\u001b[0m\u001b[0;34m(\u001b[0m\u001b[0mmu\u001b[0m \u001b[0;34m-\u001b[0m \u001b[0mendog\u001b[0m\u001b[0;34m,\u001b[0m \u001b[0;36m0\u001b[0m\u001b[0;34m)\u001b[0m\u001b[0;34m:\u001b[0m\u001b[0;34m\u001b[0m\u001b[0;34m\u001b[0m\u001b[0m\n\u001b[1;32m   1210\u001b[0m                 \u001b[0mmsg\u001b[0m \u001b[0;34m=\u001b[0m \u001b[0;34m\"Perfect separation detected, results not available\"\u001b[0m\u001b[0;34m\u001b[0m\u001b[0;34m\u001b[0m\u001b[0m\n\u001b[0;32m-> 1211\u001b[0;31m                 \u001b[0;32mraise\u001b[0m \u001b[0mPerfectSeparationError\u001b[0m\u001b[0;34m(\u001b[0m\u001b[0mmsg\u001b[0m\u001b[0;34m)\u001b[0m\u001b[0;34m\u001b[0m\u001b[0;34m\u001b[0m\u001b[0m\n\u001b[0m\u001b[1;32m   1212\u001b[0m             converged = _check_convergence(criterion, iteration + 1, atol,\n\u001b[1;32m   1213\u001b[0m                                            rtol)\n",
      "\u001b[0;31mPerfectSeparationError\u001b[0m: Perfect separation detected, results not available"
     ]
    }
   ],
   "source": [
    "import warnings\n",
    "# Disable warnings\n",
    "warnings.filterwarnings(\"ignore\")\n",
    "\n",
    "# Perform differential expression analysis\n",
    "contrast = ('condition', 'APAP', 'Control.1')\n",
    "print(\"Performing differential expression analysis...\")\n",
    "results = idea.runidea(adata, contrast)\n",
    "\n",
    "# Print results\n",
    "print(\"Differential expression analysis results:\")\n",
    "df_results = results.get_results()\n",
    "print(df_results.head())"
   ]
  },
  {
   "cell_type": "code",
   "execution_count": 93,
   "id": "a87fe039",
   "metadata": {},
   "outputs": [
    {
     "name": "stdout",
     "output_type": "stream",
     "text": [
      "Plotting Volcano plot...\n"
     ]
    },
    {
     "ename": "NameError",
     "evalue": "name 'df_results' is not defined",
     "output_type": "error",
     "traceback": [
      "\u001b[0;31m---------------------------------------------------------------------------\u001b[0m",
      "\u001b[0;31mNameError\u001b[0m                                 Traceback (most recent call last)",
      "\u001b[0;32m/tmp/ipykernel_24363/1770460250.py\u001b[0m in \u001b[0;36m<module>\u001b[0;34m\u001b[0m\n\u001b[1;32m      2\u001b[0m \u001b[0mprint\u001b[0m\u001b[0;34m(\u001b[0m\u001b[0;34m\"Plotting Volcano plot...\"\u001b[0m\u001b[0;34m)\u001b[0m\u001b[0;34m\u001b[0m\u001b[0;34m\u001b[0m\u001b[0m\n\u001b[1;32m      3\u001b[0m \u001b[0;31m# idea.plotVolcano(df_results, contrast[1], contrast[2])\u001b[0m\u001b[0;34m\u001b[0m\u001b[0;34m\u001b[0m\u001b[0;34m\u001b[0m\u001b[0m\n\u001b[0;32m----> 4\u001b[0;31m \u001b[0mdf_results_mapped\u001b[0m \u001b[0;34m=\u001b[0m \u001b[0midea\u001b[0m\u001b[0;34m.\u001b[0m\u001b[0mmap_ensembl_to_gene_name\u001b[0m\u001b[0;34m(\u001b[0m\u001b[0mdf_results\u001b[0m\u001b[0;34m,\u001b[0m \u001b[0;34m'data/lab4/GRCm38.75.gene_names'\u001b[0m\u001b[0;34m)\u001b[0m\u001b[0;34m\u001b[0m\u001b[0;34m\u001b[0m\u001b[0m\n\u001b[0m\u001b[1;32m      5\u001b[0m \u001b[0midea\u001b[0m\u001b[0;34m.\u001b[0m\u001b[0mplot_volcano\u001b[0m\u001b[0;34m(\u001b[0m\u001b[0mdf_results\u001b[0m\u001b[0;34m)\u001b[0m\u001b[0;34m\u001b[0m\u001b[0;34m\u001b[0m\u001b[0m\n\u001b[1;32m      6\u001b[0m \u001b[0;34m\u001b[0m\u001b[0m\n",
      "\u001b[0;31mNameError\u001b[0m: name 'df_results' is not defined"
     ]
    }
   ],
   "source": [
    "# Visualize differentially expressed genes\n",
    "print(\"Plotting Volcano plot...\")\n",
    "# idea.plotVolcano(df_results, contrast[1], contrast[2])\n",
    "df_results_mapped = idea.map_ensembl_to_gene_name(df_results, 'data/lab4/GRCm38.75.gene_names')\n",
    "idea.plot_volcano(df_results)\n",
    "\n",
    "print(\"Plotting heatmap...\")\n",
    "idea.plot_heatmap(df_results, adata)"
   ]
  },
  {
   "cell_type": "code",
   "execution_count": null,
   "id": "47903b26",
   "metadata": {},
   "outputs": [],
   "source": []
  }
 ],
 "metadata": {
  "kernelspec": {
   "display_name": "Python 3 (ipykernel)",
   "language": "python",
   "name": "python3"
  },
  "language_info": {
   "codemirror_mode": {
    "name": "ipython",
    "version": 3
   },
   "file_extension": ".py",
   "mimetype": "text/x-python",
   "name": "python",
   "nbconvert_exporter": "python",
   "pygments_lexer": "ipython3",
   "version": "3.9.5"
  }
 },
 "nbformat": 4,
 "nbformat_minor": 5
}
