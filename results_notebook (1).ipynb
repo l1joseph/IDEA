{
 "cells": [
  {
   "cell_type": "code",
   "execution_count": 1,
   "id": "c26da858",
   "metadata": {
    "scrolled": true
   },
   "outputs": [],
   "source": [
    "# !pip install numpy pandas scipy anndata"
   ]
  },
  {
   "cell_type": "code",
   "execution_count": 2,
   "id": "3b18ae8f",
   "metadata": {
    "scrolled": true
   },
   "outputs": [],
   "source": [
    "# %pip install anndata"
   ]
  },
  {
   "cell_type": "code",
   "execution_count": 16,
   "id": "59a797b7",
   "metadata": {},
   "outputs": [],
   "source": [
    "# only need to run this command once, after that you can use the package\n",
    "#pip install git+https://github.com/l1joseph/IDEA.git\n"
   ]
  },
  {
   "cell_type": "code",
   "execution_count": 58,
   "id": "76b743ed",
   "metadata": {},
   "outputs": [],
   "source": [
    "import idea"
   ]
  },
  {
   "cell_type": "code",
   "execution_count": 59,
   "id": "4e4d1472",
   "metadata": {},
   "outputs": [
    {
     "data": {
      "text/html": [
       "<div>\n",
       "<style scoped>\n",
       "    .dataframe tbody tr th:only-of-type {\n",
       "        vertical-align: middle;\n",
       "    }\n",
       "\n",
       "    .dataframe tbody tr th {\n",
       "        vertical-align: top;\n",
       "    }\n",
       "\n",
       "    .dataframe thead th {\n",
       "        text-align: right;\n",
       "    }\n",
       "</style>\n",
       "<table border=\"1\" class=\"dataframe\">\n",
       "  <thead>\n",
       "    <tr style=\"text-align: right;\">\n",
       "      <th>Gene</th>\n",
       "      <th>ENSG00000223972</th>\n",
       "      <th>ENSG00000227232</th>\n",
       "      <th>ENSG00000278267</th>\n",
       "      <th>ENSG00000243485</th>\n",
       "      <th>ENSG00000237613</th>\n",
       "      <th>ENSG00000268020</th>\n",
       "      <th>ENSG00000186092</th>\n",
       "      <th>ENSG00000238009</th>\n",
       "      <th>ENSG00000233750</th>\n",
       "      <th>ENSG00000268903</th>\n",
       "      <th>...</th>\n",
       "      <th>ENSG00000228253</th>\n",
       "      <th>ENSG00000198899</th>\n",
       "      <th>ENSG00000198938</th>\n",
       "      <th>ENSG00000198840</th>\n",
       "      <th>ENSG00000212907</th>\n",
       "      <th>ENSG00000198886</th>\n",
       "      <th>ENSG00000198786</th>\n",
       "      <th>ENSG00000198695</th>\n",
       "      <th>ENSG00000198727</th>\n",
       "      <th>ENSG00000210196</th>\n",
       "    </tr>\n",
       "  </thead>\n",
       "  <tbody>\n",
       "    <tr>\n",
       "      <th>APAP</th>\n",
       "      <td>9.0</td>\n",
       "      <td>325.0</td>\n",
       "      <td>16.0</td>\n",
       "      <td>1.0</td>\n",
       "      <td>1.0</td>\n",
       "      <td>3.0</td>\n",
       "      <td>2.0</td>\n",
       "      <td>26.0</td>\n",
       "      <td>31.0</td>\n",
       "      <td>19.0</td>\n",
       "      <td>...</td>\n",
       "      <td>2150.0</td>\n",
       "      <td>33388.0</td>\n",
       "      <td>206207.0</td>\n",
       "      <td>6669.0</td>\n",
       "      <td>9600.0</td>\n",
       "      <td>70858.0</td>\n",
       "      <td>55519.0</td>\n",
       "      <td>6423.0</td>\n",
       "      <td>42916.0</td>\n",
       "      <td>3910.0</td>\n",
       "    </tr>\n",
       "    <tr>\n",
       "      <th>Control.1</th>\n",
       "      <td>6.0</td>\n",
       "      <td>205.0</td>\n",
       "      <td>16.0</td>\n",
       "      <td>1.0</td>\n",
       "      <td>1.0</td>\n",
       "      <td>1.0</td>\n",
       "      <td>1.0</td>\n",
       "      <td>15.0</td>\n",
       "      <td>48.0</td>\n",
       "      <td>19.0</td>\n",
       "      <td>...</td>\n",
       "      <td>2439.0</td>\n",
       "      <td>41393.0</td>\n",
       "      <td>134203.0</td>\n",
       "      <td>10622.0</td>\n",
       "      <td>11569.0</td>\n",
       "      <td>77001.0</td>\n",
       "      <td>55072.0</td>\n",
       "      <td>6233.0</td>\n",
       "      <td>39157.0</td>\n",
       "      <td>3013.0</td>\n",
       "    </tr>\n",
       "    <tr>\n",
       "      <th>Control.2</th>\n",
       "      <td>10.0</td>\n",
       "      <td>249.0</td>\n",
       "      <td>17.0</td>\n",
       "      <td>2.0</td>\n",
       "      <td>1.0</td>\n",
       "      <td>1.0</td>\n",
       "      <td>1.0</td>\n",
       "      <td>17.0</td>\n",
       "      <td>44.0</td>\n",
       "      <td>28.0</td>\n",
       "      <td>...</td>\n",
       "      <td>2114.0</td>\n",
       "      <td>33839.0</td>\n",
       "      <td>143667.0</td>\n",
       "      <td>10395.0</td>\n",
       "      <td>8680.0</td>\n",
       "      <td>60473.0</td>\n",
       "      <td>38616.0</td>\n",
       "      <td>5286.0</td>\n",
       "      <td>36352.0</td>\n",
       "      <td>1921.0</td>\n",
       "    </tr>\n",
       "  </tbody>\n",
       "</table>\n",
       "<p>3 rows × 43320 columns</p>\n",
       "</div>"
      ],
      "text/plain": [
       "Gene       ENSG00000223972  ENSG00000227232  ENSG00000278267  ENSG00000243485  \\\n",
       "APAP                   9.0            325.0             16.0              1.0   \n",
       "Control.1              6.0            205.0             16.0              1.0   \n",
       "Control.2             10.0            249.0             17.0              2.0   \n",
       "\n",
       "Gene       ENSG00000237613  ENSG00000268020  ENSG00000186092  ENSG00000238009  \\\n",
       "APAP                   1.0              3.0              2.0             26.0   \n",
       "Control.1              1.0              1.0              1.0             15.0   \n",
       "Control.2              1.0              1.0              1.0             17.0   \n",
       "\n",
       "Gene       ENSG00000233750  ENSG00000268903  ...  ENSG00000228253  \\\n",
       "APAP                  31.0             19.0  ...           2150.0   \n",
       "Control.1             48.0             19.0  ...           2439.0   \n",
       "Control.2             44.0             28.0  ...           2114.0   \n",
       "\n",
       "Gene       ENSG00000198899  ENSG00000198938  ENSG00000198840  ENSG00000212907  \\\n",
       "APAP               33388.0         206207.0           6669.0           9600.0   \n",
       "Control.1          41393.0         134203.0          10622.0          11569.0   \n",
       "Control.2          33839.0         143667.0          10395.0           8680.0   \n",
       "\n",
       "Gene       ENSG00000198886  ENSG00000198786  ENSG00000198695  ENSG00000198727  \\\n",
       "APAP               70858.0          55519.0           6423.0          42916.0   \n",
       "Control.1          77001.0          55072.0           6233.0          39157.0   \n",
       "Control.2          60473.0          38616.0           5286.0          36352.0   \n",
       "\n",
       "Gene       ENSG00000210196  \n",
       "APAP                3910.0  \n",
       "Control.1           3013.0  \n",
       "Control.2           1921.0  \n",
       "\n",
       "[3 rows x 43320 columns]"
      ]
     },
     "execution_count": 59,
     "metadata": {},
     "output_type": "execute_result"
    }
   ],
   "source": [
    "import pandas as pd\n",
    "\n",
    "# Read the file into a DataFrame, specifying the first column as the index\n",
    "filtered_df = pd.read_csv(\"./data/GSE255777_RawCounts_human.csv\", index_col=0, header=0)\n",
    "\n",
    "# Drop the first column\n",
    "#filtered_df = filtered_df.iloc[:, 1:]\n",
    "\n",
    "# # Transpose the DataFrame\n",
    "counts = filtered_df.transpose()\n",
    "counts.columns = counts.iloc[0]\n",
    "counts = counts[1:]\n",
    "\n",
    "# Add pseudocount\n",
    "counts = counts + 1\n",
    "min_sum = 10  # Replace with your desired minimum sum\n",
    "counts = counts.loc[counts.sum(axis=1) >= min_sum, :]\n",
    "\n",
    "# Display the transposed DataFrame\n",
    "counts = counts.astype(float)\n",
    "counts"
   ]
  },
  {
   "cell_type": "code",
   "execution_count": 60,
   "id": "85673f5c",
   "metadata": {},
   "outputs": [
    {
     "data": {
      "text/html": [
       "<div>\n",
       "<style scoped>\n",
       "    .dataframe tbody tr th:only-of-type {\n",
       "        vertical-align: middle;\n",
       "    }\n",
       "\n",
       "    .dataframe tbody tr th {\n",
       "        vertical-align: top;\n",
       "    }\n",
       "\n",
       "    .dataframe thead th {\n",
       "        text-align: right;\n",
       "    }\n",
       "</style>\n",
       "<table border=\"1\" class=\"dataframe\">\n",
       "  <thead>\n",
       "    <tr style=\"text-align: right;\">\n",
       "      <th></th>\n",
       "      <th>condition</th>\n",
       "    </tr>\n",
       "  </thead>\n",
       "  <tbody>\n",
       "    <tr>\n",
       "      <th>0</th>\n",
       "      <td>APAP</td>\n",
       "    </tr>\n",
       "    <tr>\n",
       "      <th>1</th>\n",
       "      <td>Control</td>\n",
       "    </tr>\n",
       "    <tr>\n",
       "      <th>2</th>\n",
       "      <td>Control</td>\n",
       "    </tr>\n",
       "  </tbody>\n",
       "</table>\n",
       "</div>"
      ],
      "text/plain": [
       "  condition\n",
       "0      APAP\n",
       "1   Control\n",
       "2   Control"
      ]
     },
     "execution_count": 60,
     "metadata": {},
     "output_type": "execute_result"
    }
   ],
   "source": [
    "\n",
    "# Define the names of the conditions\n",
    "conditions = [\"APAP\", \"Control\", \"Control\"]\n",
    "\n",
    "# Create a DataFrame containing the conditions\n",
    "sample_info = pd.DataFrame({\n",
    "    'condition': conditions\n",
    "})\n",
    "\n",
    "# Display the DataFrame\n",
    "sample_info"
   ]
  },
  {
   "cell_type": "code",
   "execution_count": 61,
   "id": "76eaecd7",
   "metadata": {},
   "outputs": [],
   "source": [
    "dds = idea.IDEADataSet(counts, sample_info)"
   ]
  },
  {
   "cell_type": "code",
   "execution_count": 62,
   "id": "146bf55d",
   "metadata": {},
   "outputs": [],
   "source": [
    "adata = dds.to_anndata()"
   ]
  },
  {
   "cell_type": "code",
   "execution_count": 63,
   "id": "fd348ec7",
   "metadata": {},
   "outputs": [
    {
     "name": "stdout",
     "output_type": "stream",
     "text": [
      "Estimating size factors...\n",
      "Normalizing counts...\n"
     ]
    },
    {
     "data": {
      "text/plain": [
       "AnnData object with n_obs × n_vars = 3 × 43320\n",
       "    obs: 'condition', 'size_factors'\n",
       "    layers: 'normalized'"
      ]
     },
     "execution_count": 63,
     "metadata": {},
     "output_type": "execute_result"
    }
   ],
   "source": [
    "# Perform normalization\n",
    "print(\"Estimating size factors...\")\n",
    "idea.size_factors(adata)\n",
    "print(\"Normalizing counts...\")\n",
    "idea.normalize_counts(adata)"
   ]
  },
  {
   "cell_type": "code",
   "execution_count": 64,
   "id": "35842b4d",
   "metadata": {},
   "outputs": [
    {
     "name": "stdout",
     "output_type": "stream",
     "text": [
      "Estimating dispersions...\n",
      "Fitting dispersion trend...\n",
      "Shrinking dispersions...\n"
     ]
    },
    {
     "data": {
      "text/html": [
       "<div>\n",
       "<style scoped>\n",
       "    .dataframe tbody tr th:only-of-type {\n",
       "        vertical-align: middle;\n",
       "    }\n",
       "\n",
       "    .dataframe tbody tr th {\n",
       "        vertical-align: top;\n",
       "    }\n",
       "\n",
       "    .dataframe thead th {\n",
       "        text-align: right;\n",
       "    }\n",
       "</style>\n",
       "<table border=\"1\" class=\"dataframe\">\n",
       "  <thead>\n",
       "    <tr style=\"text-align: right;\">\n",
       "      <th></th>\n",
       "      <th>dispersion</th>\n",
       "      <th>fitted_dispersion</th>\n",
       "      <th>shrunken_dispersion</th>\n",
       "    </tr>\n",
       "    <tr>\n",
       "      <th>Gene</th>\n",
       "      <th></th>\n",
       "      <th></th>\n",
       "      <th></th>\n",
       "    </tr>\n",
       "  </thead>\n",
       "  <tbody>\n",
       "    <tr>\n",
       "      <th>ENSG00000223972</th>\n",
       "      <td>0.346667</td>\n",
       "      <td>117.523773</td>\n",
       "      <td>0.345647</td>\n",
       "    </tr>\n",
       "    <tr>\n",
       "      <th>ENSG00000227232</th>\n",
       "      <td>9.461703</td>\n",
       "      <td>146.633857</td>\n",
       "      <td>8.888184</td>\n",
       "    </tr>\n",
       "    <tr>\n",
       "      <th>ENSG00000278267</th>\n",
       "      <td>0.013605</td>\n",
       "      <td>132.254519</td>\n",
       "      <td>0.013604</td>\n",
       "    </tr>\n",
       "    <tr>\n",
       "      <th>ENSG00000243485</th>\n",
       "      <td>0.166667</td>\n",
       "      <td>-40.371411</td>\n",
       "      <td>0.167358</td>\n",
       "    </tr>\n",
       "    <tr>\n",
       "      <th>ENSG00000237613</th>\n",
       "      <td>0.000000</td>\n",
       "      <td>-103.028230</td>\n",
       "      <td>0.000000</td>\n",
       "    </tr>\n",
       "    <tr>\n",
       "      <th>...</th>\n",
       "      <td>...</td>\n",
       "      <td>...</td>\n",
       "      <td>...</td>\n",
       "    </tr>\n",
       "    <tr>\n",
       "      <th>ENSG00000198886</th>\n",
       "      <td>670.019421</td>\n",
       "      <td>147.595437</td>\n",
       "      <td>120.951580</td>\n",
       "    </tr>\n",
       "    <tr>\n",
       "      <th>ENSG00000198786</th>\n",
       "      <td>1243.710983</td>\n",
       "      <td>147.594007</td>\n",
       "      <td>131.936770</td>\n",
       "    </tr>\n",
       "    <tr>\n",
       "      <th>ENSG00000198695</th>\n",
       "      <td>41.349497</td>\n",
       "      <td>147.557139</td>\n",
       "      <td>32.298566</td>\n",
       "    </tr>\n",
       "    <tr>\n",
       "      <th>ENSG00000198727</th>\n",
       "      <td>183.193870</td>\n",
       "      <td>147.592697</td>\n",
       "      <td>81.738740</td>\n",
       "    </tr>\n",
       "    <tr>\n",
       "      <th>ENSG00000210196</th>\n",
       "      <td>224.377883</td>\n",
       "      <td>147.514030</td>\n",
       "      <td>89.001359</td>\n",
       "    </tr>\n",
       "  </tbody>\n",
       "</table>\n",
       "<p>43320 rows × 3 columns</p>\n",
       "</div>"
      ],
      "text/plain": [
       "                  dispersion  fitted_dispersion  shrunken_dispersion\n",
       "Gene                                                                \n",
       "ENSG00000223972     0.346667         117.523773             0.345647\n",
       "ENSG00000227232     9.461703         146.633857             8.888184\n",
       "ENSG00000278267     0.013605         132.254519             0.013604\n",
       "ENSG00000243485     0.166667         -40.371411             0.167358\n",
       "ENSG00000237613     0.000000        -103.028230             0.000000\n",
       "...                      ...                ...                  ...\n",
       "ENSG00000198886   670.019421         147.595437           120.951580\n",
       "ENSG00000198786  1243.710983         147.594007           131.936770\n",
       "ENSG00000198695    41.349497         147.557139            32.298566\n",
       "ENSG00000198727   183.193870         147.592697            81.738740\n",
       "ENSG00000210196   224.377883         147.514030            89.001359\n",
       "\n",
       "[43320 rows x 3 columns]"
      ]
     },
     "execution_count": 64,
     "metadata": {},
     "output_type": "execute_result"
    }
   ],
   "source": [
    "\n",
    "# Estimate dispersions on the filtered data\n",
    "print(\"Estimating dispersions...\")\n",
    "idea.estimate_dispersions(adata)\n",
    "print(\"Fitting dispersion trend...\")\n",
    "idea.fit_dispersion_trend(adata)\n",
    "print(\"Shrinking dispersions...\")\n",
    "idea.shrink_dispersions(adata)\n",
    "\n",
    "\n",
    "adata.var"
   ]
  },
  {
   "cell_type": "code",
   "execution_count": 65,
   "id": "7c8442b4",
   "metadata": {},
   "outputs": [
    {
     "name": "stdout",
     "output_type": "stream",
     "text": [
      "Performing differential expression analysis...\n",
      "Differential expression analysis results:\n",
      "              gene  log2_fold_change  statistic   p_value      padj\n",
      "0  ENSG00000223972          0.134973   0.010909  0.916814  0.999984\n",
      "1  ENSG00000227232         -0.107085   0.007619  0.930444  0.999984\n",
      "2  ENSG00000278267          0.282141   0.050014  0.823038  0.999984\n",
      "3  ENSG00000243485          0.658747   0.152806  0.695869  0.999984\n",
      "4  ENSG00000237613          0.251178   0.021182  0.884283  0.999984\n"
     ]
    }
   ],
   "source": [
    "import warnings\n",
    "# Disable warnings\n",
    "warnings.filterwarnings(\"ignore\")\n",
    "\n",
    "# Perform differential expression analysis\n",
    "contrast = ('condition', 'APAP', 'Control')\n",
    "print(\"Performing differential expression analysis...\")\n",
    "results = idea.runidea(adata, contrast)\n",
    "\n",
    "# Print results\n",
    "print(\"Differential expression analysis results:\")\n",
    "df_results = results.get_results()\n",
    "print(df_results.head())"
   ]
  },
  {
   "cell_type": "code",
   "execution_count": 67,
   "id": "a87fe039",
   "metadata": {},
   "outputs": [
    {
     "name": "stdout",
     "output_type": "stream",
     "text": [
      "Plotting Volcano plot...\n",
      "         gene_name  log2_fold_change  statistic   p_value      padj  \\\n",
      "0  ENSG00000223972          0.134973   0.010909  0.916814  0.999984   \n",
      "1  ENSG00000227232         -0.107085   0.007619  0.930444  0.999984   \n",
      "2  ENSG00000278267          0.282141   0.050014  0.823038  0.999984   \n",
      "3  ENSG00000243485          0.658747   0.152806  0.695869  0.999984   \n",
      "4  ENSG00000237613          0.251178   0.021182  0.884283  0.999984   \n",
      "\n",
      "   -log10_pvalue  significance      regulation  \n",
      "0       0.037719         False  nonsignificant  \n",
      "1       0.031310         False  nonsignificant  \n",
      "2       0.084580         False  nonsignificant  \n",
      "3       0.157473         False  nonsignificant  \n",
      "4       0.053409         False  nonsignificant  \n"
     ]
    },
    {
     "data": {
      "image/png": "[encoded data removed]",
      "text/plain": [
       "<Figure size 1000x800 with 1 Axes>"
      ]
     },
     "metadata": {},
     "output_type": "display_data"
    },
    {
     "name": "stdout",
     "output_type": "stream",
     "text": [
      "Plotting heatmap...\n"
     ]
    },
    {
     "ename": "KeyError",
     "evalue": "'gene'",
     "output_type": "error",
     "traceback": [
      "\u001b[0;31m---------------------------------------------------------------------------\u001b[0m",
      "\u001b[0;31mKeyError\u001b[0m                                  Traceback (most recent call last)",
      "File \u001b[0;32m~/miniconda3/lib/python3.11/site-packages/pandas/core/indexes/base.py:3805\u001b[0m, in \u001b[0;36mIndex.get_loc\u001b[0;34m(self, key)\u001b[0m\n\u001b[1;32m   3804\u001b[0m \u001b[38;5;28;01mtry\u001b[39;00m:\n\u001b[0;32m-> 3805\u001b[0m     \u001b[38;5;28;01mreturn\u001b[39;00m \u001b[38;5;28;43mself\u001b[39;49m\u001b[38;5;241;43m.\u001b[39;49m\u001b[43m_engine\u001b[49m\u001b[38;5;241;43m.\u001b[39;49m\u001b[43mget_loc\u001b[49m\u001b[43m(\u001b[49m\u001b[43mcasted_key\u001b[49m\u001b[43m)\u001b[49m\n\u001b[1;32m   3806\u001b[0m \u001b[38;5;28;01mexcept\u001b[39;00m \u001b[38;5;167;01mKeyError\u001b[39;00m \u001b[38;5;28;01mas\u001b[39;00m err:\n",
      "File \u001b[0;32mindex.pyx:167\u001b[0m, in \u001b[0;36mpandas._libs.index.IndexEngine.get_loc\u001b[0;34m()\u001b[0m\n",
      "File \u001b[0;32mindex.pyx:196\u001b[0m, in \u001b[0;36mpandas._libs.index.IndexEngine.get_loc\u001b[0;34m()\u001b[0m\n",
      "File \u001b[0;32mpandas/_libs/hashtable_class_helper.pxi:7081\u001b[0m, in \u001b[0;36mpandas._libs.hashtable.PyObjectHashTable.get_item\u001b[0;34m()\u001b[0m\n",
      "File \u001b[0;32mpandas/_libs/hashtable_class_helper.pxi:7089\u001b[0m, in \u001b[0;36mpandas._libs.hashtable.PyObjectHashTable.get_item\u001b[0;34m()\u001b[0m\n",
      "\u001b[0;31mKeyError\u001b[0m: 'gene'",
      "\nThe above exception was the direct cause of the following exception:\n",
      "\u001b[0;31mKeyError\u001b[0m                                  Traceback (most recent call last)",
      "Cell \u001b[0;32mIn[67], line 11\u001b[0m\n\u001b[1;32m      8\u001b[0m idea\u001b[38;5;241m.\u001b[39mplot_volcano(df_results)\n\u001b[1;32m     10\u001b[0m \u001b[38;5;28mprint\u001b[39m(\u001b[38;5;124m\"\u001b[39m\u001b[38;5;124mPlotting heatmap...\u001b[39m\u001b[38;5;124m\"\u001b[39m)\n\u001b[0;32m---> 11\u001b[0m \u001b[43midea\u001b[49m\u001b[38;5;241;43m.\u001b[39;49m\u001b[43mplot_heatmap\u001b[49m\u001b[43m(\u001b[49m\u001b[43mdf_results\u001b[49m\u001b[43m,\u001b[49m\u001b[43m \u001b[49m\u001b[43madata\u001b[49m\u001b[43m)\u001b[49m\n",
      "File \u001b[0;32m~/IDEA/idea/plots.py:92\u001b[0m, in \u001b[0;36mplot_heatmap\u001b[0;34m(results_df, adata, top_n)\u001b[0m\n\u001b[1;32m     84\u001b[0m \u001b[38;5;250m\u001b[39m\u001b[38;5;124;03m\"\"\"\u001b[39;00m\n\u001b[1;32m     85\u001b[0m \u001b[38;5;124;03mPlot a heatmap of the top differentially expressed genes.\u001b[39;00m\n\u001b[1;32m     86\u001b[0m \u001b[38;5;124;03mParameters:\u001b[39;00m\n\u001b[0;32m   (...)\u001b[0m\n\u001b[1;32m     89\u001b[0m \u001b[38;5;124;03mtop_n (int): Number of top genes to display in the heatmap.\u001b[39;00m\n\u001b[1;32m     90\u001b[0m \u001b[38;5;124;03m\"\"\"\u001b[39;00m\n\u001b[1;32m     91\u001b[0m \u001b[38;5;66;03m# Select the top_n differentially expressed genes by adjusted p-value\u001b[39;00m\n\u001b[0;32m---> 92\u001b[0m top_genes \u001b[38;5;241m=\u001b[39m \u001b[43mresults_df\u001b[49m\u001b[38;5;241;43m.\u001b[39;49m\u001b[43mnsmallest\u001b[49m\u001b[43m(\u001b[49m\u001b[43mtop_n\u001b[49m\u001b[43m,\u001b[49m\u001b[43m \u001b[49m\u001b[38;5;124;43m'\u001b[39;49m\u001b[38;5;124;43mpadj\u001b[39;49m\u001b[38;5;124;43m'\u001b[39;49m\u001b[43m)\u001b[49m\u001b[43m[\u001b[49m\u001b[38;5;124;43m'\u001b[39;49m\u001b[38;5;124;43mgene\u001b[39;49m\u001b[38;5;124;43m'\u001b[39;49m\u001b[43m]\u001b[49m\n\u001b[1;32m     93\u001b[0m top_genes_data \u001b[38;5;241m=\u001b[39m adata[:, top_genes]\u001b[38;5;241m.\u001b[39mX\n\u001b[1;32m     95\u001b[0m \u001b[38;5;66;03m# Ensure the data is in the correct format\u001b[39;00m\n",
      "File \u001b[0;32m~/miniconda3/lib/python3.11/site-packages/pandas/core/frame.py:4102\u001b[0m, in \u001b[0;36mDataFrame.__getitem__\u001b[0;34m(self, key)\u001b[0m\n\u001b[1;32m   4100\u001b[0m \u001b[38;5;28;01mif\u001b[39;00m \u001b[38;5;28mself\u001b[39m\u001b[38;5;241m.\u001b[39mcolumns\u001b[38;5;241m.\u001b[39mnlevels \u001b[38;5;241m>\u001b[39m \u001b[38;5;241m1\u001b[39m:\n\u001b[1;32m   4101\u001b[0m     \u001b[38;5;28;01mreturn\u001b[39;00m \u001b[38;5;28mself\u001b[39m\u001b[38;5;241m.\u001b[39m_getitem_multilevel(key)\n\u001b[0;32m-> 4102\u001b[0m indexer \u001b[38;5;241m=\u001b[39m \u001b[38;5;28;43mself\u001b[39;49m\u001b[38;5;241;43m.\u001b[39;49m\u001b[43mcolumns\u001b[49m\u001b[38;5;241;43m.\u001b[39;49m\u001b[43mget_loc\u001b[49m\u001b[43m(\u001b[49m\u001b[43mkey\u001b[49m\u001b[43m)\u001b[49m\n\u001b[1;32m   4103\u001b[0m \u001b[38;5;28;01mif\u001b[39;00m is_integer(indexer):\n\u001b[1;32m   4104\u001b[0m     indexer \u001b[38;5;241m=\u001b[39m [indexer]\n",
      "File \u001b[0;32m~/miniconda3/lib/python3.11/site-packages/pandas/core/indexes/base.py:3812\u001b[0m, in \u001b[0;36mIndex.get_loc\u001b[0;34m(self, key)\u001b[0m\n\u001b[1;32m   3807\u001b[0m     \u001b[38;5;28;01mif\u001b[39;00m \u001b[38;5;28misinstance\u001b[39m(casted_key, \u001b[38;5;28mslice\u001b[39m) \u001b[38;5;129;01mor\u001b[39;00m (\n\u001b[1;32m   3808\u001b[0m         \u001b[38;5;28misinstance\u001b[39m(casted_key, abc\u001b[38;5;241m.\u001b[39mIterable)\n\u001b[1;32m   3809\u001b[0m         \u001b[38;5;129;01mand\u001b[39;00m \u001b[38;5;28many\u001b[39m(\u001b[38;5;28misinstance\u001b[39m(x, \u001b[38;5;28mslice\u001b[39m) \u001b[38;5;28;01mfor\u001b[39;00m x \u001b[38;5;129;01min\u001b[39;00m casted_key)\n\u001b[1;32m   3810\u001b[0m     ):\n\u001b[1;32m   3811\u001b[0m         \u001b[38;5;28;01mraise\u001b[39;00m InvalidIndexError(key)\n\u001b[0;32m-> 3812\u001b[0m     \u001b[38;5;28;01mraise\u001b[39;00m \u001b[38;5;167;01mKeyError\u001b[39;00m(key) \u001b[38;5;28;01mfrom\u001b[39;00m \u001b[38;5;21;01merr\u001b[39;00m\n\u001b[1;32m   3813\u001b[0m \u001b[38;5;28;01mexcept\u001b[39;00m \u001b[38;5;167;01mTypeError\u001b[39;00m:\n\u001b[1;32m   3814\u001b[0m     \u001b[38;5;66;03m# If we have a listlike key, _check_indexing_error will raise\u001b[39;00m\n\u001b[1;32m   3815\u001b[0m     \u001b[38;5;66;03m#  InvalidIndexError. Otherwise we fall through and re-raise\u001b[39;00m\n\u001b[1;32m   3816\u001b[0m     \u001b[38;5;66;03m#  the TypeError.\u001b[39;00m\n\u001b[1;32m   3817\u001b[0m     \u001b[38;5;28mself\u001b[39m\u001b[38;5;241m.\u001b[39m_check_indexing_error(key)\n",
      "\u001b[0;31mKeyError\u001b[0m: 'gene'"
     ]
    }
   ],
   "source": [
    "# Visualize differentially expressed genes\n",
    "print(\"Plotting Volcano plot...\")\n",
    "df_results_mapped = idea.map_ensembl_to_gene_name(df_results, 'data/lab4/GRCm38.75.gene_names')\n",
    "print(df_results.head())\n",
    "idea.plot_volcano(df_results)\n",
    "\n",
    "print(\"Plotting heatmap...\")\n",
    "idea.plot_heatmap(df_results, adata)"
   ]
  },
  {
   "cell_type": "code",
   "execution_count": null,
   "id": "a4d3e680-83d2-4433-a72a-4f2439c308c6",
   "metadata": {},
   "outputs": [],
   "source": []
  }
 ],
 "metadata": {
  "kernelspec": {
   "display_name": "Python 3 (ipykernel)",
   "language": "python",
   "name": "python3"
  },
  "language_info": {
   "codemirror_mode": {
    "name": "ipython",
    "version": 3
   },
   "file_extension": ".py",
   "mimetype": "text/x-python",
   "name": "python",
   "nbconvert_exporter": "python",
   "pygments_lexer": "ipython3",
   "version": "3.11.4"
  }
 },
 "nbformat": 4,
 "nbformat_minor": 5
}
