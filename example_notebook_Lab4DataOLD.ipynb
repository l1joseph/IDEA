{
 "cells": [
  {
   "cell_type": "code",
   "execution_count": 1,
   "id": "c26da858",
   "metadata": {
    "scrolled": true
   },
   "outputs": [],
   "source": [
    "# !pip install numpy pandas scipy anndata"
   ]
  },
  {
   "cell_type": "code",
   "execution_count": 2,
   "id": "3b18ae8f",
   "metadata": {
    "scrolled": true
   },
   "outputs": [],
   "source": [
    "# %pip install anndata"
   ]
  },
  {
   "cell_type": "code",
   "execution_count": 3,
   "id": "59a797b7",
   "metadata": {},
   "outputs": [
    {
     "name": "stdout",
     "output_type": "stream",
     "text": [
      "Collecting git+https://github.com/l1joseph/IDEA.git\n",
      "  Cloning https://github.com/l1joseph/IDEA.git to /private/var/folders/4w/582gv0zd28l6zn35041dn2ph0000gn/T/pip-req-build-qv5c62kz\n",
      "  Running command git clone --filter=blob:none --quiet https://github.com/l1joseph/IDEA.git /private/var/folders/4w/582gv0zd28l6zn35041dn2ph0000gn/T/pip-req-build-qv5c62kz\n",
      "  Resolved https://github.com/l1joseph/IDEA.git to commit b34e133171fe8aa424f507f731a087213fceeaa8\n",
      "  Preparing metadata (setup.py) ... \u001b[?25ldone\n",
      "\u001b[?25hRequirement already satisfied: pandas in ./anaconda3/lib/python3.10/site-packages (from idea==0.1.0) (1.5.3)\n",
      "Requirement already satisfied: numpy in ./anaconda3/lib/python3.10/site-packages (from idea==0.1.0) (1.23.5)\n",
      "Requirement already satisfied: anndata in ./anaconda3/lib/python3.10/site-packages (from idea==0.1.0) (0.10.7)\n",
      "Requirement already satisfied: statsmodels in ./anaconda3/lib/python3.10/site-packages (from idea==0.1.0) (0.14.0)\n",
      "Requirement already satisfied: scipy in ./anaconda3/lib/python3.10/site-packages (from idea==0.1.0) (1.10.0)\n",
      "Requirement already satisfied: matplotlib in ./anaconda3/lib/python3.10/site-packages (from idea==0.1.0) (3.7.0)\n",
      "Requirement already satisfied: seaborn in ./anaconda3/lib/python3.10/site-packages (from idea==0.1.0) (0.12.2)\n",
      "Requirement already satisfied: exceptiongroup in ./anaconda3/lib/python3.10/site-packages (from anndata->idea==0.1.0) (1.2.1)\n",
      "Requirement already satisfied: packaging>=20.0 in ./anaconda3/lib/python3.10/site-packages (from anndata->idea==0.1.0) (22.0)\n",
      "Requirement already satisfied: natsort in ./anaconda3/lib/python3.10/site-packages (from anndata->idea==0.1.0) (8.4.0)\n",
      "Requirement already satisfied: h5py>=3.1 in ./anaconda3/lib/python3.10/site-packages (from anndata->idea==0.1.0) (3.7.0)\n",
      "Requirement already satisfied: array-api-compat!=1.5,>1.4 in ./anaconda3/lib/python3.10/site-packages (from anndata->idea==0.1.0) (1.6)\n",
      "Requirement already satisfied: python-dateutil>=2.8.1 in ./anaconda3/lib/python3.10/site-packages (from pandas->idea==0.1.0) (2.8.2)\n",
      "Requirement already satisfied: pytz>=2020.1 in ./anaconda3/lib/python3.10/site-packages (from pandas->idea==0.1.0) (2022.7)\n",
      "Requirement already satisfied: cycler>=0.10 in ./anaconda3/lib/python3.10/site-packages (from matplotlib->idea==0.1.0) (0.11.0)\n",
      "Requirement already satisfied: pyparsing>=2.3.1 in ./anaconda3/lib/python3.10/site-packages (from matplotlib->idea==0.1.0) (3.0.9)\n",
      "Requirement already satisfied: kiwisolver>=1.0.1 in ./anaconda3/lib/python3.10/site-packages (from matplotlib->idea==0.1.0) (1.4.4)\n",
      "Requirement already satisfied: pillow>=6.2.0 in ./anaconda3/lib/python3.10/site-packages (from matplotlib->idea==0.1.0) (9.4.0)\n",
      "Requirement already satisfied: contourpy>=1.0.1 in ./anaconda3/lib/python3.10/site-packages (from matplotlib->idea==0.1.0) (1.0.5)\n",
      "Requirement already satisfied: fonttools>=4.22.0 in ./anaconda3/lib/python3.10/site-packages (from matplotlib->idea==0.1.0) (4.25.0)\n",
      "Requirement already satisfied: patsy>=0.5.2 in ./anaconda3/lib/python3.10/site-packages (from statsmodels->idea==0.1.0) (0.5.3)\n",
      "Requirement already satisfied: six in ./anaconda3/lib/python3.10/site-packages (from patsy>=0.5.2->statsmodels->idea==0.1.0) (1.16.0)\n",
      "Note: you may need to restart the kernel to use updated packages.\n"
     ]
    }
   ],
   "source": [
    "# only need to run this command once, after that you can use the package\n",
    "# pip install git+https://github.com/l1joseph/IDEA.git"
   ]
  },
  {
   "cell_type": "code",
   "execution_count": 1,
   "id": "76b743ed",
   "metadata": {},
   "outputs": [],
   "source": [
    "import idea"
   ]
  },
  {
   "cell_type": "code",
   "execution_count": 2,
   "id": "39b325c7",
   "metadata": {},
   "outputs": [],
   "source": [
    "import pandas as pd\n",
    "import numpy as np\n",
    "# Split the file paths into conditions and replicates\n",
    "files = ['data/lab4/Chow_Rep1.genes.results', 'data/lab4/Chow_Rep2.genes.results', 'data/lab4/Chow_Rep3.genes.results', \n",
    "        'data/lab4/HFD_Rep1.genes.results', 'data/lab4/HFD_Rep2.genes.results', 'data/lab4/HFD_Rep3.genes.results']\n",
    "conditions = []\n",
    "replicates = []\n",
    "for file_path in files:\n",
    "    condition, replicate = file_path.split(\"/\")[-1].split(\"_\")\n",
    "    conditions.append(condition)\n",
    "    replicates.append(replicate[:-13])  # Remove \".genes.results\" from the replicate\n",
    "\n",
    "# Create a DataFrame with the conditions and replicates\n",
    "samples = pd.DataFrame({\"run\": replicates, \"condition\": conditions}, index=replicates)\n",
    "\n",
    "# Initialize an empty DataFrame\n",
    "df_final = pd.DataFrame()\n",
    "\n",
    "# Loop over each file\n",
    "for i, file in enumerate(files):\n",
    "    # Read the file into a DataFrame\n",
    "    df = pd.read_csv(file, sep=\"\\t\", usecols=[0, 4], names=[\"gene_id\", samples.iloc[i, 0]], header=None)\n",
    "    # If this is the first file, copy it to df_final\n",
    "    if df_final.empty:\n",
    "        df_final = df\n",
    "    else:\n",
    "        # Otherwise, merge the new DataFrame with df_final\n",
    "        df_final = pd.merge(df_final, df, on=\"gene_id\", how=\"outer\")\n",
    "\n",
    "# Filter rows based on the sum of values, excluding the 'gene_id' column\n",
    "numeric_cols = df_final.columns[1:]  # All columns except 'gene_id'\n",
    "df_final[numeric_cols] = df_final[numeric_cols].apply(pd.to_numeric, errors='coerce')\n",
    "min_sum = 10  # Replace with your desired minimum sum\n",
    "filtered_df = df_final.loc[df_final[numeric_cols].sum(axis=1) >= min_sum, :]\n",
    "\n",
    "# Write the filtered DataFrame to a new file\n",
    "filtered_df.to_csv(\"data/lab4/filtered_merged_file.csv\", index=False)\n",
    "\n",
    "# Final part is actually implementing deseq, need to get out \"gene_id\", \"baseMean\", \"log2FoldChange\", \"lfcSE\", \"stat\", \"pvalue\", \"padj\" from the dds"
   ]
  },
  {
   "cell_type": "code",
   "execution_count": 3,
   "id": "4e4d1472",
   "metadata": {},
   "outputs": [
    {
     "data": {
      "text/html": [
       "<div>\n",
       "<style scoped>\n",
       "    .dataframe tbody tr th:only-of-type {\n",
       "        vertical-align: middle;\n",
       "    }\n",
       "\n",
       "    .dataframe tbody tr th {\n",
       "        vertical-align: top;\n",
       "    }\n",
       "\n",
       "    .dataframe thead th {\n",
       "        text-align: right;\n",
       "    }\n",
       "</style>\n",
       "<table border=\"1\" class=\"dataframe\">\n",
       "  <thead>\n",
       "    <tr style=\"text-align: right;\">\n",
       "      <th>gene_id</th>\n",
       "      <th>ENSMUSG00000000001</th>\n",
       "      <th>ENSMUSG00000000028</th>\n",
       "      <th>ENSMUSG00000000049</th>\n",
       "      <th>ENSMUSG00000000056</th>\n",
       "      <th>ENSMUSG00000000058</th>\n",
       "      <th>ENSMUSG00000000078</th>\n",
       "      <th>ENSMUSG00000000085</th>\n",
       "      <th>ENSMUSG00000000088</th>\n",
       "      <th>ENSMUSG00000000093</th>\n",
       "      <th>ENSMUSG00000000120</th>\n",
       "      <th>...</th>\n",
       "      <th>ENSMUSG00000099083</th>\n",
       "      <th>ENSMUSG00000099137</th>\n",
       "      <th>ENSMUSG00000099146</th>\n",
       "      <th>ENSMUSG00000099227</th>\n",
       "      <th>ENSMUSG00000099241</th>\n",
       "      <th>ENSMUSG00000099242</th>\n",
       "      <th>ENSMUSG00000099250</th>\n",
       "      <th>ENSMUSG00000099297</th>\n",
       "      <th>ENSMUSG00000099325</th>\n",
       "      <th>ENSMUSG00000099329</th>\n",
       "    </tr>\n",
       "  </thead>\n",
       "  <tbody>\n",
       "    <tr>\n",
       "      <th>Rep1._x</th>\n",
       "      <td>1212.0</td>\n",
       "      <td>15.0</td>\n",
       "      <td>18423.0</td>\n",
       "      <td>515.0</td>\n",
       "      <td>71.0</td>\n",
       "      <td>104.0</td>\n",
       "      <td>90.0</td>\n",
       "      <td>1013.29</td>\n",
       "      <td>28.0</td>\n",
       "      <td>22.0</td>\n",
       "      <td>...</td>\n",
       "      <td>553.85</td>\n",
       "      <td>12.46</td>\n",
       "      <td>453.0</td>\n",
       "      <td>0.00</td>\n",
       "      <td>0.00</td>\n",
       "      <td>12.0</td>\n",
       "      <td>120.00</td>\n",
       "      <td>11.0</td>\n",
       "      <td>3.0</td>\n",
       "      <td>0.00</td>\n",
       "    </tr>\n",
       "    <tr>\n",
       "      <th>Rep2._x</th>\n",
       "      <td>1187.0</td>\n",
       "      <td>32.0</td>\n",
       "      <td>17917.0</td>\n",
       "      <td>593.0</td>\n",
       "      <td>60.0</td>\n",
       "      <td>193.0</td>\n",
       "      <td>113.0</td>\n",
       "      <td>993.65</td>\n",
       "      <td>17.0</td>\n",
       "      <td>60.0</td>\n",
       "      <td>...</td>\n",
       "      <td>494.00</td>\n",
       "      <td>9.50</td>\n",
       "      <td>347.0</td>\n",
       "      <td>68.40</td>\n",
       "      <td>0.00</td>\n",
       "      <td>6.0</td>\n",
       "      <td>293.00</td>\n",
       "      <td>21.0</td>\n",
       "      <td>1.5</td>\n",
       "      <td>9.91</td>\n",
       "    </tr>\n",
       "    <tr>\n",
       "      <th>Rep3._x</th>\n",
       "      <td>1154.0</td>\n",
       "      <td>10.0</td>\n",
       "      <td>15619.0</td>\n",
       "      <td>606.0</td>\n",
       "      <td>44.0</td>\n",
       "      <td>189.0</td>\n",
       "      <td>103.0</td>\n",
       "      <td>990.37</td>\n",
       "      <td>24.0</td>\n",
       "      <td>73.0</td>\n",
       "      <td>...</td>\n",
       "      <td>400.40</td>\n",
       "      <td>6.16</td>\n",
       "      <td>375.0</td>\n",
       "      <td>62.40</td>\n",
       "      <td>0.00</td>\n",
       "      <td>7.0</td>\n",
       "      <td>134.28</td>\n",
       "      <td>16.0</td>\n",
       "      <td>2.0</td>\n",
       "      <td>1.11</td>\n",
       "    </tr>\n",
       "    <tr>\n",
       "      <th>Rep1._y</th>\n",
       "      <td>1031.0</td>\n",
       "      <td>16.0</td>\n",
       "      <td>16395.0</td>\n",
       "      <td>801.0</td>\n",
       "      <td>45.0</td>\n",
       "      <td>139.0</td>\n",
       "      <td>88.0</td>\n",
       "      <td>804.94</td>\n",
       "      <td>22.0</td>\n",
       "      <td>57.0</td>\n",
       "      <td>...</td>\n",
       "      <td>332.88</td>\n",
       "      <td>8.12</td>\n",
       "      <td>326.0</td>\n",
       "      <td>111.80</td>\n",
       "      <td>21.64</td>\n",
       "      <td>8.0</td>\n",
       "      <td>44.00</td>\n",
       "      <td>13.0</td>\n",
       "      <td>5.5</td>\n",
       "      <td>0.00</td>\n",
       "    </tr>\n",
       "    <tr>\n",
       "      <th>Rep2._y</th>\n",
       "      <td>1274.0</td>\n",
       "      <td>11.0</td>\n",
       "      <td>16006.0</td>\n",
       "      <td>733.0</td>\n",
       "      <td>46.0</td>\n",
       "      <td>114.0</td>\n",
       "      <td>90.0</td>\n",
       "      <td>901.66</td>\n",
       "      <td>29.0</td>\n",
       "      <td>56.0</td>\n",
       "      <td>...</td>\n",
       "      <td>413.00</td>\n",
       "      <td>5.15</td>\n",
       "      <td>324.0</td>\n",
       "      <td>58.26</td>\n",
       "      <td>0.00</td>\n",
       "      <td>12.0</td>\n",
       "      <td>315.50</td>\n",
       "      <td>25.0</td>\n",
       "      <td>3.5</td>\n",
       "      <td>8.26</td>\n",
       "    </tr>\n",
       "    <tr>\n",
       "      <th>Rep3._y</th>\n",
       "      <td>848.0</td>\n",
       "      <td>13.0</td>\n",
       "      <td>10709.0</td>\n",
       "      <td>553.0</td>\n",
       "      <td>41.0</td>\n",
       "      <td>117.0</td>\n",
       "      <td>64.0</td>\n",
       "      <td>571.69</td>\n",
       "      <td>22.0</td>\n",
       "      <td>35.0</td>\n",
       "      <td>...</td>\n",
       "      <td>308.00</td>\n",
       "      <td>4.05</td>\n",
       "      <td>235.0</td>\n",
       "      <td>2.33</td>\n",
       "      <td>0.00</td>\n",
       "      <td>11.0</td>\n",
       "      <td>90.50</td>\n",
       "      <td>5.0</td>\n",
       "      <td>0.5</td>\n",
       "      <td>3.06</td>\n",
       "    </tr>\n",
       "  </tbody>\n",
       "</table>\n",
       "<p>6 rows × 15439 columns</p>\n",
       "</div>"
      ],
      "text/plain": [
       "gene_id  ENSMUSG00000000001  ENSMUSG00000000028  ENSMUSG00000000049  \\\n",
       "Rep1._x              1212.0                15.0             18423.0   \n",
       "Rep2._x              1187.0                32.0             17917.0   \n",
       "Rep3._x              1154.0                10.0             15619.0   \n",
       "Rep1._y              1031.0                16.0             16395.0   \n",
       "Rep2._y              1274.0                11.0             16006.0   \n",
       "Rep3._y               848.0                13.0             10709.0   \n",
       "\n",
       "gene_id  ENSMUSG00000000056  ENSMUSG00000000058  ENSMUSG00000000078  \\\n",
       "Rep1._x               515.0                71.0               104.0   \n",
       "Rep2._x               593.0                60.0               193.0   \n",
       "Rep3._x               606.0                44.0               189.0   \n",
       "Rep1._y               801.0                45.0               139.0   \n",
       "Rep2._y               733.0                46.0               114.0   \n",
       "Rep3._y               553.0                41.0               117.0   \n",
       "\n",
       "gene_id  ENSMUSG00000000085  ENSMUSG00000000088  ENSMUSG00000000093  \\\n",
       "Rep1._x                90.0             1013.29                28.0   \n",
       "Rep2._x               113.0              993.65                17.0   \n",
       "Rep3._x               103.0              990.37                24.0   \n",
       "Rep1._y                88.0              804.94                22.0   \n",
       "Rep2._y                90.0              901.66                29.0   \n",
       "Rep3._y                64.0              571.69                22.0   \n",
       "\n",
       "gene_id  ENSMUSG00000000120  ...  ENSMUSG00000099083  ENSMUSG00000099137  \\\n",
       "Rep1._x                22.0  ...              553.85               12.46   \n",
       "Rep2._x                60.0  ...              494.00                9.50   \n",
       "Rep3._x                73.0  ...              400.40                6.16   \n",
       "Rep1._y                57.0  ...              332.88                8.12   \n",
       "Rep2._y                56.0  ...              413.00                5.15   \n",
       "Rep3._y                35.0  ...              308.00                4.05   \n",
       "\n",
       "gene_id  ENSMUSG00000099146  ENSMUSG00000099227  ENSMUSG00000099241  \\\n",
       "Rep1._x               453.0                0.00                0.00   \n",
       "Rep2._x               347.0               68.40                0.00   \n",
       "Rep3._x               375.0               62.40                0.00   \n",
       "Rep1._y               326.0              111.80               21.64   \n",
       "Rep2._y               324.0               58.26                0.00   \n",
       "Rep3._y               235.0                2.33                0.00   \n",
       "\n",
       "gene_id  ENSMUSG00000099242  ENSMUSG00000099250  ENSMUSG00000099297  \\\n",
       "Rep1._x                12.0              120.00                11.0   \n",
       "Rep2._x                 6.0              293.00                21.0   \n",
       "Rep3._x                 7.0              134.28                16.0   \n",
       "Rep1._y                 8.0               44.00                13.0   \n",
       "Rep2._y                12.0              315.50                25.0   \n",
       "Rep3._y                11.0               90.50                 5.0   \n",
       "\n",
       "gene_id  ENSMUSG00000099325  ENSMUSG00000099329  \n",
       "Rep1._x                 3.0                0.00  \n",
       "Rep2._x                 1.5                9.91  \n",
       "Rep3._x                 2.0                1.11  \n",
       "Rep1._y                 5.5                0.00  \n",
       "Rep2._y                 3.5                8.26  \n",
       "Rep3._y                 0.5                3.06  \n",
       "\n",
       "[6 rows x 15439 columns]"
      ]
     },
     "execution_count": 3,
     "metadata": {},
     "output_type": "execute_result"
    }
   ],
   "source": [
    "filtered_df.set_index('gene_id', inplace=True)\n",
    "counts = filtered_df.transpose()\n",
    "counts"
   ]
  },
  {
   "cell_type": "code",
   "execution_count": 4,
   "id": "85673f5c",
   "metadata": {},
   "outputs": [
    {
     "data": {
      "text/html": [
       "<div>\n",
       "<style scoped>\n",
       "    .dataframe tbody tr th:only-of-type {\n",
       "        vertical-align: middle;\n",
       "    }\n",
       "\n",
       "    .dataframe tbody tr th {\n",
       "        vertical-align: top;\n",
       "    }\n",
       "\n",
       "    .dataframe thead th {\n",
       "        text-align: right;\n",
       "    }\n",
       "</style>\n",
       "<table border=\"1\" class=\"dataframe\">\n",
       "  <thead>\n",
       "    <tr style=\"text-align: right;\">\n",
       "      <th></th>\n",
       "      <th>condition</th>\n",
       "    </tr>\n",
       "  </thead>\n",
       "  <tbody>\n",
       "    <tr>\n",
       "      <th>0</th>\n",
       "      <td>Chow</td>\n",
       "    </tr>\n",
       "    <tr>\n",
       "      <th>1</th>\n",
       "      <td>Chow</td>\n",
       "    </tr>\n",
       "    <tr>\n",
       "      <th>2</th>\n",
       "      <td>Chow</td>\n",
       "    </tr>\n",
       "    <tr>\n",
       "      <th>3</th>\n",
       "      <td>HFD</td>\n",
       "    </tr>\n",
       "    <tr>\n",
       "      <th>4</th>\n",
       "      <td>HFD</td>\n",
       "    </tr>\n",
       "    <tr>\n",
       "      <th>5</th>\n",
       "      <td>HFD</td>\n",
       "    </tr>\n",
       "  </tbody>\n",
       "</table>\n",
       "</div>"
      ],
      "text/plain": [
       "  condition\n",
       "0      Chow\n",
       "1      Chow\n",
       "2      Chow\n",
       "3       HFD\n",
       "4       HFD\n",
       "5       HFD"
      ]
     },
     "execution_count": 4,
     "metadata": {},
     "output_type": "execute_result"
    }
   ],
   "source": [
    "conditions\n",
    "sample_info = pd.DataFrame({\n",
    "        'condition': conditions\n",
    "    })\n",
    "sample_info"
   ]
  },
  {
   "cell_type": "code",
   "execution_count": 5,
   "id": "76eaecd7",
   "metadata": {},
   "outputs": [],
   "source": [
    "dds = idea.IDEADataSet(counts, sample_info)"
   ]
  },
  {
   "cell_type": "code",
   "execution_count": 6,
   "id": "146bf55d",
   "metadata": {},
   "outputs": [
    {
     "name": "stderr",
     "output_type": "stream",
     "text": [
      "/opt/homebrew/Caskroom/miniconda/base/envs/IDEA/lib/python3.11/site-packages/anndata/_core/aligned_df.py:67: ImplicitModificationWarning: Transforming to str index.\n",
      "  warnings.warn(\"Transforming to str index.\", ImplicitModificationWarning)\n"
     ]
    }
   ],
   "source": [
    "adata = dds.to_anndata()"
   ]
  },
  {
   "cell_type": "code",
   "execution_count": 7,
   "id": "fd348ec7",
   "metadata": {},
   "outputs": [
    {
     "name": "stdout",
     "output_type": "stream",
     "text": [
      "Estimating size factors...\n",
      "Normalizing counts...\n"
     ]
    },
    {
     "data": {
      "text/plain": [
       "AnnData object with n_obs × n_vars = 6 × 15439\n",
       "    obs: 'condition', 'size_factors'\n",
       "    layers: 'normalized'"
      ]
     },
     "execution_count": 7,
     "metadata": {},
     "output_type": "execute_result"
    }
   ],
   "source": [
    "# Perform normalization\n",
    "print(\"Estimating size factors...\")\n",
    "idea.size_factors(adata)\n",
    "print(\"Normalizing counts...\")\n",
    "idea.normalize_counts(adata)"
   ]
  },
  {
   "cell_type": "code",
   "execution_count": 8,
   "id": "35842b4d",
   "metadata": {},
   "outputs": [
    {
     "name": "stdout",
     "output_type": "stream",
     "text": [
      "Estimating dispersions...\n",
      "Fitting dispersion trend...\n",
      "Shrinking dispersions...\n"
     ]
    },
    {
     "data": {
      "text/plain": [
       "gene_id\n",
       "ENSMUSG00000000001    13.689324\n",
       "ENSMUSG00000000028     3.146544\n",
       "ENSMUSG00000000049    51.274550\n",
       "ENSMUSG00000000056    12.578571\n",
       "ENSMUSG00000000058     2.162316\n",
       "                        ...    \n",
       "ENSMUSG00000099242     0.620976\n",
       "ENSMUSG00000099250    29.995306\n",
       "ENSMUSG00000099297     2.661893\n",
       "ENSMUSG00000099325     1.062282\n",
       "ENSMUSG00000099329     2.931624\n",
       "Name: shrunken_dispersion, Length: 15439, dtype: float64"
      ]
     },
     "execution_count": 8,
     "metadata": {},
     "output_type": "execute_result"
    }
   ],
   "source": [
    "# Estimate dispersions\n",
    "print(\"Estimating dispersions...\")\n",
    "idea.estimate_dispersions(adata)\n",
    "print(\"Fitting dispersion trend...\")\n",
    "idea.fit_dispersion_trend(adata)\n",
    "print(\"Shrinking dispersions...\")\n",
    "idea.shrink_dispersions(adata)"
   ]
  },
  {
   "cell_type": "code",
   "execution_count": 9,
   "id": "7c8442b4",
   "metadata": {},
   "outputs": [
    {
     "name": "stdout",
     "output_type": "stream",
     "text": [
      "Performing differential expression analysis...\n",
      "Phenotype data:\n",
      "0    Chow\n",
      "1    Chow\n",
      "2    Chow\n",
      "3     HFD\n",
      "4     HFD\n",
      "5     HFD\n",
      "Name: condition, dtype: object\n",
      "Expected levels: Chow, HFD\n",
      "Design matrix:\n",
      "     HFD\n",
      "0  False\n",
      "1  False\n",
      "2  False\n",
      "3   True\n",
      "4   True\n",
      "Differential expression analysis results:\n",
      "                 gene  log2_fold_change       p_value          padj\n",
      "0  ENSMUSG00000000001          7.039317  3.640889e-34  4.415686e-33\n",
      "1  ENSMUSG00000000028          2.692234  6.398774e-06  8.287112e-06\n",
      "2  ENSMUSG00000000049          9.647605  1.115764e-62  1.775905e-60\n",
      "3  ENSMUSG00000000056          6.625532  1.906756e-30  1.536047e-29\n",
      "4  ENSMUSG00000000058          3.880837  2.861737e-11  4.521322e-11\n"
     ]
    }
   ],
   "source": [
    "import warnings\n",
    "# Disable warnings\n",
    "warnings.filterwarnings(\"ignore\")\n",
    "\n",
    "# Perform differential expression analysis\n",
    "contrast = ('condition', 'Chow', 'HFD')\n",
    "print(\"Performing differential expression analysis...\")\n",
    "results = idea.runidea(adata, contrast)\n",
    "\n",
    "# Print results\n",
    "print(\"Differential expression analysis results:\")\n",
    "df_results = results.get_results()\n",
    "print(df_results.head())"
   ]
  },
  {
   "cell_type": "code",
   "execution_count": 10,
   "id": "a87fe039",
   "metadata": {},
   "outputs": [
    {
     "name": "stdout",
     "output_type": "stream",
     "text": [
      "Plotting Volcano plot...\n"
     ]
    },
    {
     "data": {
      "image/png": "[encoded data removed]",
      "text/plain": [
       "<Figure size 1000x800 with 1 Axes>"
      ]
     },
     "metadata": {},
     "output_type": "display_data"
    },
    {
     "name": "stdout",
     "output_type": "stream",
     "text": [
      "Plotting heatmap...\n"
     ]
    },
    {
     "data": {
      "image/png": "[encoded data removed]",
      "text/plain": [
       "<Figure size 1200x1000 with 2 Axes>"
      ]
     },
     "metadata": {},
     "output_type": "display_data"
    }
   ],
   "source": [
    "# Visualize differentially expressed genes\n",
    "print(\"Plotting Volcano plot...\")\n",
    "# idea.plotVolcano(df_results, contrast[1], contrast[2])\n",
    "idea.plotVolcano(df_results)\n",
    "\n",
    "print(\"Plotting heatmap...\")\n",
    "idea.plotHeatmap(df_results, adata)"
   ]
  },
  {
   "cell_type": "code",
   "execution_count": null,
   "id": "b2927dce",
   "metadata": {},
   "outputs": [],
   "source": []
  }
 ],
 "metadata": {
  "kernelspec": {
   "display_name": "Python 3 (ipykernel)",
   "language": "python",
   "name": "python3"
  },
  "language_info": {
   "codemirror_mode": {
    "name": "ipython",
    "version": 3
   },
   "file_extension": ".py",
   "mimetype": "text/x-python",
   "name": "python",
   "nbconvert_exporter": "python",
   "pygments_lexer": "ipython3",
   "version": "3.11.8"
  }
 },
 "nbformat": 4,
 "nbformat_minor": 5
}
